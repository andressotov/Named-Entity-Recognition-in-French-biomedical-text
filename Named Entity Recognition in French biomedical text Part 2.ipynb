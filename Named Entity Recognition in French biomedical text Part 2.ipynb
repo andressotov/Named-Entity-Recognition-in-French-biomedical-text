{
 "cells": [
  {
   "cell_type": "markdown",
   "metadata": {},
   "source": [
    "Named Entity Recognition in French biomedical text (Part 2)\n",
    "===========================================\n",
    "by Andrés Soto Villaverde\n",
    "-------------------------------------\n",
    "[LinkedIn profile](https://www.linkedin.com/in/andres-soto-villaverde-36198a5/)"
   ]
  },
  {
   "cell_type": "markdown",
   "metadata": {},
   "source": [
    "In the [previous notebook](https://nbviewer.jupyter.org/github/andressotov/Named-Entity-Recognition-in-French-biomedical-text/blob/master/Named%20Entity%20Recognition%20in%20French%20biomedical%20text.ipynb), we introduced the problem of identifying entities in French biomedical texts taken from The QUAERO French Medical Corpus. In this corpus, ten types of clinical entities were annotated: Anatomy, Chemical and Drugs, Devices, Disorders, Geographic Areas, Living Beings, Objects, Phenomena, Physiology, Procedures with the labels: ANAT, CHEM, DEVI, DISO, GEOG, LIVB, OBJC, PHEN, PHYS, PROC. \n",
    "\n"
   ]
  },
  {
   "cell_type": "markdown",
   "metadata": {},
   "source": [
    "Let's show a sample annotation for a MEDLINE text:\n",
    "\n",
    "**Sample MEDLINE title 1**\n",
    "\n",
    "    *Chirurgie de la communication interauriculaire du type \" sinus venosus \" .*\n",
    "    \n",
    "**Sample MEDLINE title 1 annotations**\n",
    "\n",
    "T1           PROC 0 9             Chirurgie\n",
    "\n",
    "\n",
    "T2           DISO 16 46          communication interauriculaire\n",
    "\n",
    "This means that the text between characters 0 and 9 is assigned a label PROC (= procedure). The token which corresponds to this text is “Chirurgie”. Second annotation is for the text between characters 16 and 46 (which covers tokens “communication interauriculaire”) and is assigned label DISO (= disorder)."
   ]
  },
  {
   "cell_type": "markdown",
   "metadata": {},
   "source": [
    "A selection of MEDLINE titles were preprocessed in the previous notebook. The information from the files included in the corpus were transformed into a list of Python dictionaries with the following structure:"
   ]
  },
  {
   "cell_type": "raw",
   "metadata": {},
   "source": [
    "{'ann_dic': [(0, 10, 'PROC', 'Traitement'),\n",
    "             (11, 14, 'NONE', 'des'),\n",
    "             (15, 36, 'DISO', 'métastases hépatiques'),\n",
    "             (37, 40, 'NONE', 'des'),\n",
    "             (41, 60, 'DISO', 'cancers colorectaux'),\n",
    "             (61, 80, 'NONE', \": jusqu' où aller ?\")],\n",
    " 'txt': \"Traitement des métastases hépatiques des cancers colorectaux : jusqu' \"\n",
    "        'où aller ?\\n'}"
   ]
  },
  {
   "cell_type": "markdown",
   "metadata": {},
   "source": [
    "The annotation dictionary ('ann_dic') contains a list of tuples with four elements:\n",
    "* index position of the first character of the segment in the sentences,\n",
    "* index of the last character of the segment,\n",
    "* corresponding label of the segment,\n",
    "* the segment.\n",
    "\n",
    "The other dictionary field ('txt') contains the whole sentence. The list of dictionaries was saved into a file called 'train_txt_ann3'"
   ]
  },
  {
   "cell_type": "markdown",
   "metadata": {},
   "source": [
    "Following we will explain the train and test part of the algorithm. In order to train the algorithm, we need first to obtain a vector *y* with the labels for each sentence and a matrix *X* with a set of features for each sentence. \n",
    "\n",
    "Let's begin explaining how to extract the labels for each sentence. The function *sentences2labels* converts the list of tuples (a,b,token,label) corresponding to the sentences into list of labels using the function sent2labels for extracting the labels for each sentence (i.e. list of tuples)"
   ]
  },
  {
   "cell_type": "code",
   "execution_count": 1,
   "metadata": {},
   "outputs": [],
   "source": [
    "def sent2labels(ltup):\n",
    "    liob = []\n",
    "    for (token,label) in ltup:\n",
    "        liob.append(label)\n",
    "    return liob\n",
    "\n",
    "def sentences2labels(ls_tok_lab):\n",
    "    print(\"extracting labels from sentences...\")\n",
    "    llabs = []\n",
    "    for ltup in list(ls_tok_lab):\n",
    "        labs = sent2labels(ltup)\n",
    "        llabs.append(labs)\n",
    "    return llabs"
   ]
  },
  {
   "cell_type": "markdown",
   "metadata": {},
   "source": [
    "By the other hand, we have the function *sentences2features* which converts a list of sentences into a list of lists of features (i.e. each feature correspond to a token and all the features that belong to a sentence are collected into the same list). It returns the list of lists of features.\n",
    "For each list of tuples (i.e. sentence), it uses the function *word2features* to convert the i-th element (token, label) of the tuple list into a set of features. It returns the set of features.\n",
    "In this example, the features considered were:\n",
    "* Is the token lowercase or uppercase?\n",
    "* Does the token begin with a capital?\n",
    "* Is the token made up of digits?\n",
    "* Is the token formed by alphanumeric chars?\n",
    "* Is the token formed by alphabetic chars?\n",
    "* the last 3 chars of the token\n",
    "* the last 2 chars of the token\n",
    "This set of features is also collected for the previous and following token (if they exist)"
   ]
  },
  {
   "cell_type": "code",
   "execution_count": 2,
   "metadata": {},
   "outputs": [],
   "source": [
    "def word2features(sent, i):\n",
    "    token = sent[i][0]     # take word i from the sentence\n",
    "    features = {\n",
    "        # setup the features\n",
    "        'bias': 1.0,\n",
    "        'word.lower()': token.lower(),  \t# Is the token lowercase?\n",
    "        'word.isupper()': token.isupper(),  # Is the token uppercase?\n",
    "        'word.istitle()': token.istitle(),  # Does the token begin with a capital?\n",
    "        'word.isdigit()': token.isdigit(),  # Is the token made up of digits?\n",
    "        'word.isalnum()': token.isalnum(),  # Is the token formed by alphanumeric chars?\n",
    "        'word.isalpha()': token.isalpha(),  # Is the token formed by alphabetic chars?\n",
    "        'word[-3:]': token[-3:],\t\t    # the last 3 chars of the token\n",
    "        'word[-2:]': token[-2:], \t        # the last 2 chars of the token\n",
    "    }\n",
    "    if i > 0:  # if it is not the first word\n",
    "        token1 = sent[i - 1][0]        # take the previous token\n",
    "        features.update({               # update the features\n",
    "            '-1:word.lower()': token1.lower(),      # Is the previous token lowercase?\n",
    "            '-1:word.isupper()': token1.isupper(),  # Is the previous token uppercase?\n",
    "            '-1:word.istitle()': token1.istitle(),  # Does it begin with a capital?\n",
    "            '-1:word.isdigit()': token1.isdigit(),  # Is the previous token made up of digits?\n",
    "            '-1:word.isalnum()': token1.isalnum(),  # Is the previous token formed by alphanumeric chars?\n",
    "            '-1:word.isalpha()': token1.isalpha(),  # Is the previous token formed by alphabetic chars?\n",
    "            '-1:word[-3:]': token1[-3:],            # the last 3 chars of the previous token\n",
    "            '-1:word[-2:]': token1[-2:],            # the last 2 chars of the previous token\n",
    "        })\n",
    "    else:       # if it is the first word\n",
    "        features['BOS'] = True  # set 'Begin Of Sentence'\n",
    "    if i < len(sent) - 1:           # if it is not the last word\n",
    "        token1 = sent[i + 1][0]     # take the next word\n",
    "        features.update({           # update the features:\n",
    "            '+1:word.lower()': token1.lower(),      # Is the next token lowercase?\n",
    "            '+1:word.istitle()': token1.istitle(),  # Does it begin with a capital?\n",
    "            '+1:word.isupper()': token1.isupper(),  # Is the it uppercase?\n",
    "            '+1:word.isdigit()': token1.isdigit(),  # Is the next token made up of digits?\n",
    "            '+1:word.isalnum()': token1.isalnum(),  # Is the next token formed by alphanumeric chars?\n",
    "            '+1:word.isalpha()': token1.isalpha(),  # Is the next token formed by alphabetic chars?\n",
    "            '+1:word[-3:]': token1[-3:],            # the last 3 chars of the next token\n",
    "            '+1:word[-2:]': token1[-2:],            # the last 2 chars of the next token\n",
    "        })\n",
    "    else:       # if it is the last word\n",
    "        features['EOS'] = True  # set 'End Of Sentence'\n",
    "    return features\n",
    "    \n",
    "def sentences2features(ls_tok_lab):\n",
    "    print(\"converting sentences to features...\")\n",
    "    lfeat = []\n",
    "    for ltup in ls_tok_lab:\n",
    "        lfeat.append([word2features(ltup, i) for i in range(len(ltup))])\n",
    "    return lfeat"
   ]
  },
  {
   "cell_type": "markdown",
   "metadata": {},
   "source": [
    "The function *train_test* receives a list of dictionaries with the annotations and text of the sentences as described before. Then it extracts a list of lists of labels that correspond to the list of sentences which is saved into variable **y**\n",
    "\n",
    "Afterthat it converts the list of sentences into list of lists of features (i.e. each token corresponds to several feature and all the features that belong to a sentence are collected into the same list) which is stored into variable **X**\n",
    "\n",
    "Then we train the [Conditional Random Field (CRF)](https://en.wikipedia.org/wiki/Conditional_random_field) algorithm with this data using [cross validation](https://en.wikipedia.org/wiki/Cross-validation_(statistics)) with 5 groups. It also calculate the classification report as well as the mean score and the 95% confidence interval of the score estimate. The classifier is saved into the file \"crf_tagger.pkl\""
   ]
  },
  {
   "cell_type": "code",
   "execution_count": 3,
   "metadata": {},
   "outputs": [],
   "source": [
    "from sklearn_crfsuite import CRF\n",
    "from sklearn.model_selection import cross_val_predict\n",
    "from sklearn.model_selection import cross_val_score\n",
    "from sklearn_crfsuite.metrics import flat_classification_report\n",
    "\n",
    "def save_pickle(data,file):\n",
    "    pick_file = open(file+\".pkl\", \"wb\")\n",
    "    pickle.dump(data, pick_file)\n",
    "    pick_file.close()\n",
    "\n",
    "def train_test(ls_tok_lab):\n",
    "    print(\"Begin training...\")\n",
    "    y = sentences2labels(ls_tok_lab)\n",
    "    X = sentences2features(ls_tok_lab)\n",
    "\n",
    "    c1 = 0.005 \n",
    "    c2 = 0.005 \n",
    "    all_possible_transitions = True\n",
    "    max_iterations = 100\n",
    "    algorithm = 'lbfgs'\n",
    "    print(\"Model CRF algorithm=\",algorithm,\"c1=\", c1, \"c2=\", c2,\n",
    "          \"max_iterations=\",max_iterations,\n",
    "          \"all_possible_transitions=\",all_possible_transitions)\n",
    "    crf = CRF(algorithm=algorithm,c1=c1,c2= c2,\n",
    "              max_iterations=max_iterations,\n",
    "              all_possible_transitions=all_possible_transitions)\n",
    "\n",
    "    print(\"Use cross_val_predict cv=5\")\n",
    "    pred = cross_val_predict(estimator=crf, X=X, y=y, cv=5)\n",
    "    report = flat_classification_report(y_pred=pred, y_true=y)\n",
    "    print(\"classification_report\")\n",
    "    print(report)\n",
    "    print(\"Use cross_val_score with cv=5\")\n",
    "    scores = cross_val_score(crf, X, y, cv=5)\n",
    "    # The mean score and the 95% confidence interval of the\n",
    "    # score estimate are hence given by:\n",
    "    print(\"Accuracy: %0.2f (+/- %0.2f)\" % (scores.mean(), scores.std() * 2))\n",
    "    crf.fit(X=X, y=y)    \n",
    "    save_pickle(crf, \"crf_tagger\")\n",
    "    return report"
   ]
  },
  {
   "cell_type": "markdown",
   "metadata": {},
   "source": [
    "We can now start the whole process."
   ]
  },
  {
   "cell_type": "code",
   "execution_count": 4,
   "metadata": {},
   "outputs": [],
   "source": [
    "import os\n",
    "import pickle\n",
    "\n",
    "def load_pickle(file):\n",
    "    pick_file = open(file+\".pkl\", \"rb\")\n",
    "    data = pickle.load(pick_file)\n",
    "    pick_file.close()\n",
    "    return data\n",
    "\n",
    "def step1(set):\n",
    "    ls_tok_lab = load_pickle(set + '_txt_ann3')\n",
    "    report = train_test(ls_tok_lab)\n",
    "    return report"
   ]
  },
  {
   "cell_type": "code",
   "execution_count": 5,
   "metadata": {},
   "outputs": [
    {
     "name": "stdout",
     "output_type": "stream",
     "text": [
      "Begin training...\n",
      "extracting labels from sentences...\n",
      "converting sentences to features...\n",
      "Model CRF algorithm= lbfgs c1= 0.005 c2= 0.005 max_iterations= 100 all_possible_transitions= True\n",
      "Use cross_val_predict cv=5\n",
      "classification_report\n",
      "              precision    recall  f1-score   support\n",
      "\n",
      "        ANAT       0.48      0.32      0.38       377\n",
      "        CHEM       0.53      0.39      0.45       421\n",
      "        DEVI       0.29      0.04      0.07        52\n",
      "        DISO       0.58      0.59      0.58      1335\n",
      "        GEOG       0.79      0.41      0.54        37\n",
      "        LIVB       0.63      0.40      0.49       347\n",
      "        NONE       0.84      0.86      0.85      6963\n",
      "        OBJC       0.29      0.07      0.11        29\n",
      "        PHEN       0.07      0.02      0.03        56\n",
      "        PHYS       0.33      0.19      0.24       172\n",
      "        PROC       0.34      0.47      0.40       755\n",
      "\n",
      "   micro avg       0.72      0.72      0.72     10544\n",
      "   macro avg       0.47      0.34      0.38     10544\n",
      "weighted avg       0.72      0.72      0.72     10544\n",
      "\n",
      "Use cross_val_score with cv=5\n",
      "Accuracy: 0.73 (+/- 0.12)\n"
     ]
    }
   ],
   "source": [
    "set = 'train'\n",
    "# First step: train and test the model\n",
    "report = step1(set)"
   ]
  },
  {
   "cell_type": "markdown",
   "metadata": {},
   "source": [
    "Now let's analyze in some detail the obtained results. The classification report offers a text summary of the precision, recall, F1 score for each category. The reported averages include: \n",
    "* macro average: averaging the unweighted mean per label, \n",
    "* weighted average: averaging the support-weighted mean per label, and\n",
    "* micro average: averaging the total true positives, false negatives and false positives. It is only shown for multi-label or multi-class with a subset of classes because it is accuracy otherwise."
   ]
  },
  {
   "cell_type": "markdown",
   "metadata": {},
   "source": [
    "Both micro and weighted average shows acceptable results (over 70%), while macro average is considerably lower. \n",
    "Analysing the results by category, we can see that the best results (over 80%) were obtained with category NONE, which corresponds to words that are not in any of the others category. We can see also that there were 6963 NONE words included into the sentences processed, which is a much higher value than all the others. \n",
    "We will show these results graphically."
   ]
  },
  {
   "cell_type": "code",
   "execution_count": 6,
   "metadata": {},
   "outputs": [
    {
     "data": {
      "text/plain": [
       "[['label', 'precision', 'recall', 'f1-score', 'support'],\n",
       " ['ANAT', '0.48', '0.32', '0.38', '377'],\n",
       " ['CHEM', '0.53', '0.39', '0.45', '421'],\n",
       " ['DEVI', '0.29', '0.04', '0.07', '52'],\n",
       " ['DISO', '0.58', '0.59', '0.58', '1335'],\n",
       " ['GEOG', '0.79', '0.41', '0.54', '37'],\n",
       " ['LIVB', '0.63', '0.40', '0.49', '347'],\n",
       " ['NONE', '0.84', '0.86', '0.85', '6963'],\n",
       " ['OBJC', '0.29', '0.07', '0.11', '29'],\n",
       " ['PHEN', '0.07', '0.02', '0.03', '56'],\n",
       " ['PHYS', '0.33', '0.19', '0.24', '172'],\n",
       " ['PROC', '0.34', '0.47', '0.40', '755'],\n",
       " ['micro', '0.72', '0.72', '0.72', '10544'],\n",
       " ['macro', '0.47', '0.34', '0.38', '10544'],\n",
       " ['weighted', '0.72', '0.72', '0.72', '10544']]"
      ]
     },
     "execution_count": 6,
     "metadata": {},
     "output_type": "execute_result"
    }
   ],
   "source": [
    "import numpy as np\n",
    "\n",
    "# Create a function called \"chunks\" with two arguments, l and n:\n",
    "def chunks(l, n):\n",
    "    # For item i in a range that is a length of l,\n",
    "    for i in range(0, len(l), n):\n",
    "        # Create an index range for l of n items:\n",
    "        yield l[i:i+n]\n",
    "\n",
    "# Transform the report in string format into a list of chunks\n",
    "# one chunk for each report row \n",
    "r1 = report.replace('avg','')\n",
    "r1 = r1.split()\n",
    "r1.insert(0,'label')\n",
    "llists = list(chunks(r1, 5))\n",
    "llists"
   ]
  },
  {
   "cell_type": "code",
   "execution_count": 7,
   "metadata": {},
   "outputs": [],
   "source": [
    "col_labels = ['precision', 'recall', 'f1', 'support']\n",
    "# Extract the report column 0 corresponding to the labels (without the heading)\n",
    "labels = [item[0] for item in llists][1:]\n",
    "l = list(reversed(labels))[3:]"
   ]
  },
  {
   "cell_type": "code",
   "execution_count": 8,
   "metadata": {},
   "outputs": [],
   "source": [
    "# Extract the report column 1 corresponding to precision results\n",
    "precision = [item[1] for item in llists][1:]\n",
    "precision = [float(p) for p in precision] # string --> float\n",
    "p = list(reversed(precision))[3:]"
   ]
  },
  {
   "cell_type": "code",
   "execution_count": 9,
   "metadata": {},
   "outputs": [],
   "source": [
    "# Extract the report column 2 corresponding to recall results\n",
    "recall = [item[2] for item in llists][1:]\n",
    "recall = [float(p) for p in recall] # string --> float\n",
    "r = list(reversed(recall))[3:]"
   ]
  },
  {
   "cell_type": "code",
   "execution_count": 10,
   "metadata": {},
   "outputs": [],
   "source": [
    "# Extract the report column 3 corresponding to F1-score results\n",
    "f1 = [item[3] for item in llists][1:]\n",
    "f1 = [float(p) for p in f1] # string --> float\n",
    "f = list(reversed(f1))[3:]"
   ]
  },
  {
   "cell_type": "code",
   "execution_count": 11,
   "metadata": {},
   "outputs": [],
   "source": [
    "# Extract the report column 4 corresponding to support results\n",
    "support = [item[4] for item in llists][1:]\n",
    "support = [int(p) for p in support] # string --> integer\n",
    "s = list(reversed(support))[3:]"
   ]
  },
  {
   "cell_type": "code",
   "execution_count": 12,
   "metadata": {},
   "outputs": [
    {
     "data": {
      "text/html": [
       "<div>\n",
       "<style scoped>\n",
       "    .dataframe tbody tr th:only-of-type {\n",
       "        vertical-align: middle;\n",
       "    }\n",
       "\n",
       "    .dataframe tbody tr th {\n",
       "        vertical-align: top;\n",
       "    }\n",
       "\n",
       "    .dataframe thead th {\n",
       "        text-align: right;\n",
       "    }\n",
       "</style>\n",
       "<table border=\"1\" class=\"dataframe\">\n",
       "  <thead>\n",
       "    <tr style=\"text-align: right;\">\n",
       "      <th></th>\n",
       "      <th>precision</th>\n",
       "      <th>recall</th>\n",
       "      <th>F1-score</th>\n",
       "      <th>Support</th>\n",
       "    </tr>\n",
       "  </thead>\n",
       "  <tbody>\n",
       "    <tr>\n",
       "      <th>precision</th>\n",
       "      <td>1.000000</td>\n",
       "      <td>0.825190</td>\n",
       "      <td>0.918620</td>\n",
       "      <td>0.562933</td>\n",
       "    </tr>\n",
       "    <tr>\n",
       "      <th>recall</th>\n",
       "      <td>0.825190</td>\n",
       "      <td>1.000000</td>\n",
       "      <td>0.977194</td>\n",
       "      <td>0.774146</td>\n",
       "    </tr>\n",
       "    <tr>\n",
       "      <th>F1-score</th>\n",
       "      <td>0.918620</td>\n",
       "      <td>0.977194</td>\n",
       "      <td>1.000000</td>\n",
       "      <td>0.715011</td>\n",
       "    </tr>\n",
       "    <tr>\n",
       "      <th>Support</th>\n",
       "      <td>0.562933</td>\n",
       "      <td>0.774146</td>\n",
       "      <td>0.715011</td>\n",
       "      <td>1.000000</td>\n",
       "    </tr>\n",
       "  </tbody>\n",
       "</table>\n",
       "</div>"
      ],
      "text/plain": [
       "           precision    recall  F1-score   Support\n",
       "precision   1.000000  0.825190  0.918620  0.562933\n",
       "recall      0.825190  1.000000  0.977194  0.774146\n",
       "F1-score    0.918620  0.977194  1.000000  0.715011\n",
       "Support     0.562933  0.774146  0.715011  1.000000"
      ]
     },
     "execution_count": 12,
     "metadata": {},
     "output_type": "execute_result"
    }
   ],
   "source": [
    "import pandas as pd\n",
    "\n",
    "df = pd.DataFrame(np.corrcoef([p,r,f,s]),\n",
    "                  columns=['precision','recall','F1-score','Support'],\n",
    "                  index=['precision','recall','F1-score','Support'])\n",
    "df"
   ]
  },
  {
   "cell_type": "code",
   "execution_count": 13,
   "metadata": {},
   "outputs": [
    {
     "data": {
      "image/png": "[encoded data removed]",
      "text/plain": [
       "<Figure size 432x288 with 4 Axes>"
      ]
     },
     "metadata": {
      "needs_background": "light"
     },
     "output_type": "display_data"
    }
   ],
   "source": [
    "%matplotlib inline\n",
    "\n",
    "import matplotlib.pyplot as plt\n",
    "\n",
    "fig, axarr = plt.subplots(4, constrained_layout=True, sharex=True)\n",
    "fig.suptitle('Note that all curves share X axis', fontsize=16)\n",
    "\n",
    "axarr[0].plot(l, p)\n",
    "axarr[1].plot(l, r)\n",
    "axarr[2].plot(l, f)\n",
    "axarr[3].plot(l, s)\n",
    "axarr[0].set_ylabel('Prediction')\n",
    "axarr[1].set_ylabel('Recall')\n",
    "axarr[2].set_ylabel('F1-score')\n",
    "axarr[3].set_ylabel('Support')\n",
    "plt.show()"
   ]
  },
  {
   "cell_type": "markdown",
   "metadata": {},
   "source": [
    "We can observe that:\n",
    "* all the curves are sharing the X-axis\n",
    "* only the curve that appears at the bottom, i.e. the *support* one, has integer values in the range [0, 7000]. All the other graphic vary between 0 and 1.\n",
    "* the value at label *NONE* at the *support* curve is very much higher than the other values.\n",
    "* all curves get the higher value at label *NONE* as we noticed before\n",
    "* the second higher value at the *precision* curve is obtained at label *GEOG*, although the *recall* value is not so good\n",
    "* the value at label *DISO* is the second higher for the *support* curve as the values for *precision*, *recall* and *F1* for label *DISO* are also high \n",
    "\n",
    "We can assume that there is a certain correlation between the values for the *support* curve and the values for the other curves. Let's calculate the [Pearson correlation](https://docs.scipy.org/doc/numpy/reference/generated/numpy.corrcoef.html) between those values."
   ]
  },
  {
   "cell_type": "code",
   "execution_count": 14,
   "metadata": {},
   "outputs": [
    {
     "data": {
      "text/html": [
       "<div>\n",
       "<style scoped>\n",
       "    .dataframe tbody tr th:only-of-type {\n",
       "        vertical-align: middle;\n",
       "    }\n",
       "\n",
       "    .dataframe tbody tr th {\n",
       "        vertical-align: top;\n",
       "    }\n",
       "\n",
       "    .dataframe thead th {\n",
       "        text-align: right;\n",
       "    }\n",
       "</style>\n",
       "<table border=\"1\" class=\"dataframe\">\n",
       "  <thead>\n",
       "    <tr style=\"text-align: right;\">\n",
       "      <th></th>\n",
       "      <th>precision</th>\n",
       "      <th>recall</th>\n",
       "      <th>F1-score</th>\n",
       "      <th>Support</th>\n",
       "    </tr>\n",
       "  </thead>\n",
       "  <tbody>\n",
       "    <tr>\n",
       "      <th>precision</th>\n",
       "      <td>1.000000</td>\n",
       "      <td>0.825190</td>\n",
       "      <td>0.918620</td>\n",
       "      <td>0.562933</td>\n",
       "    </tr>\n",
       "    <tr>\n",
       "      <th>recall</th>\n",
       "      <td>0.825190</td>\n",
       "      <td>1.000000</td>\n",
       "      <td>0.977194</td>\n",
       "      <td>0.774146</td>\n",
       "    </tr>\n",
       "    <tr>\n",
       "      <th>F1-score</th>\n",
       "      <td>0.918620</td>\n",
       "      <td>0.977194</td>\n",
       "      <td>1.000000</td>\n",
       "      <td>0.715011</td>\n",
       "    </tr>\n",
       "    <tr>\n",
       "      <th>Support</th>\n",
       "      <td>0.562933</td>\n",
       "      <td>0.774146</td>\n",
       "      <td>0.715011</td>\n",
       "      <td>1.000000</td>\n",
       "    </tr>\n",
       "  </tbody>\n",
       "</table>\n",
       "</div>"
      ],
      "text/plain": [
       "           precision    recall  F1-score   Support\n",
       "precision   1.000000  0.825190  0.918620  0.562933\n",
       "recall      0.825190  1.000000  0.977194  0.774146\n",
       "F1-score    0.918620  0.977194  1.000000  0.715011\n",
       "Support     0.562933  0.774146  0.715011  1.000000"
      ]
     },
     "execution_count": 14,
     "metadata": {},
     "output_type": "execute_result"
    }
   ],
   "source": [
    "import pandas as pd\n",
    "\n",
    "df = pd.DataFrame(np.corrcoef([p,r,f,s]),\n",
    "                  columns=['precision','recall','F1-score','Support'],\n",
    "                  index=['precision','recall','F1-score','Support'])\n",
    "df"
   ]
  },
  {
   "cell_type": "markdown",
   "metadata": {},
   "source": [
    "Observing the right hand column (i.e. *support*), we can see that there does not exist a total correlation, but certainly there exist a positive correlation between the *support* values and the *precision*, *recall* and *F1*, which is higher for *recall* values"
   ]
  },
  {
   "cell_type": "markdown",
   "metadata": {},
   "source": [
    "I hope that you have found this blog useful and interesting. In future updates, I will continue trying to improve the scores obtained here. Thank you for reading me!"
   ]
  }
 ],
 "metadata": {
  "kernelspec": {
   "display_name": "Python 3",
   "language": "python",
   "name": "python3"
  },
  "language_info": {
   "codemirror_mode": {
    "name": "ipython",
    "version": 3
   },
   "file_extension": ".py",
   "mimetype": "text/x-python",
   "name": "python",
   "nbconvert_exporter": "python",
   "pygments_lexer": "ipython3",
   "version": "3.7.1"
  }
 },
 "nbformat": 4,
 "nbformat_minor": 2
}
